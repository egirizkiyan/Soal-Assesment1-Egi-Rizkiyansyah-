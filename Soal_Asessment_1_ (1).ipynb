{
  "nbformat": 4,
  "nbformat_minor": 0,
  "metadata": {
    "colab": {
      "provenance": []
    },
    "kernelspec": {
      "name": "python3",
      "display_name": "Python 3"
    },
    "language_info": {
      "name": "python"
    }
  },
  "cells": [
    {
      "cell_type": "markdown",
      "source": [
        "Buatlah program dengan kriteria sbb (10):\n",
        "Inputan Output\n",
        "Nama Nama\n",
        "NIM NIM\n",
        "Usia atau\n",
        "Tanggal lahir ( jika inputan yang\n",
        "dipilih tanggal maka poin akan\n",
        "mendapat poin tambahan sebesar 5\n",
        "point)\n",
        "Usia\n",
        "Angka favorit Luas lingkaran berdasarkan angka\n",
        "favorit\n",
        "Keterangan :\n",
        "Jika inputan berupa tanggal lahir maka anda harus menghitung usia anda saat\n",
        "assessment ini dilakukan.\n",
        "Untuk menghitung luas lingkaran anda dapat menggunakan rumus luas lingkaran\n",
        "yaitu 3,14 x jari-jari x jari-jari"
      ],
      "metadata": {
        "id": "CI8__GjMC3RJ"
      }
    },
    {
      "cell_type": "code",
      "source": [
        "from datetime import datetime\n",
        "\n",
        "def hitung_usia(tanggal_lahir):\n",
        "    today = datetime.now()\n",
        "    lahir = datetime.strptime(tanggal_lahir, \"%Y-%m-%d\")\n",
        "    usia = today.year - lahir.year - ((today.month, today.day) < (lahir.month, lahir.day))\n",
        "    return usia\n",
        "\n",
        "def hitung_luas_lingkaran(jari_jari):\n",
        "    return 3.14 * jari_jari * jari_jari\n",
        "\n",
        "nama = input(\"Masukkan Nama: \")\n",
        "nim = input(\"Masukkan NIM: \")\n",
        "\n",
        "pilihan = input(\"Apakah Anda ingin memasukkan usia atau tanggal lahir? (usia/tanggal): \").strip().lower()\n",
        "\n",
        "if pilihan == \"tanggal\":\n",
        "    tanggal_lahir = input(\"Masukkan Tanggal Lahir (format YYYY-MM-DD): \")\n",
        "    usia = hitung_usia(tanggal_lahir)\n",
        "    print(f\"Usia Anda: {usia} tahun (Anda mendapatkan 5 poin tambahan!)\")\n",
        "else:\n",
        "    usia = int(input(\"Masukkan Usia: \"))\n",
        "\n",
        "angka_favorit = float(input(\"Masukkan Angka Favorit: \"))\n",
        "\n",
        "luas_lingkaran = hitung_luas_lingkaran(angka_favorit)\n",
        "\n",
        "print(\"\\n=== Hasil ===\")\n",
        "print(f\"Nama: {nama}\")\n",
        "print(f\"NIM: {nim}\")\n",
        "print(f\"Usia: {usia} tahun\")\n",
        "print(f\"Luas Lingkaran berdasarkan angka favorit ({angka_favorit}): {luas_lingkaran}\")\n"
      ],
      "metadata": {
        "colab": {
          "base_uri": "https://localhost:8080/"
        },
        "id": "RX6hl1stC6Wb",
        "outputId": "71821c1c-5fb5-45c5-f6db-9f7fc0d61c04"
      },
      "execution_count": 1,
      "outputs": [
        {
          "output_type": "stream",
          "name": "stdout",
          "text": [
            "Masukkan Nama: egi Rizkiyansyah\n",
            "Masukkan NIM: 2311110042\n",
            "Apakah Anda ingin memasukkan usia atau tanggal lahir? (usia/tanggal): 19\n",
            "Masukkan Usia: 19\n",
            "Masukkan Angka Favorit: 30\n",
            "\n",
            "=== Hasil ===\n",
            "Nama: egi Rizkiyansyah\n",
            "NIM: 2311110042\n",
            "Usia: 19 tahun\n",
            "Luas Lingkaran berdasarkan angka favorit (30.0): 2826.0\n"
          ]
        }
      ]
    },
    {
      "cell_type": "markdown",
      "source": [
        "Lakukan eksplorasi data pada data genangan air Surabaya.csv dengan\n",
        "membuat program-program python dan interpretasi dari output program\n",
        "yang anda buat. Sehingga anda dapat menjawab pertanyaan-pertanyaan\n",
        "berikut ini :\n",
        "a. Tentukan berapa nilai maksimum, minimum dan rata-rata dari luas\n",
        "genangan, tinggi genangan dan lama genangan air. ( 5)\n",
        "b. Buatlah pie chart untuk membandingkan banyaknya peristiwa genangan\n",
        "berdasarkan rayonnya. (5)\n",
        "c. Bagaimana hubungan antara luas genangan dan skor genangan, dan apakah\n",
        "ada hubungan antara luas genangan air dan lama genangan air? (5)"
      ],
      "metadata": {
        "id": "DslYRJb-DkmD"
      }
    },
    {
      "cell_type": "code",
      "source": [
        "import pandas as pd\n",
        "import matplotlib.pyplot as plt\n",
        "import seaborn as sns\n",
        "\n",
        "data = pd.read_csv('/data genangan air Surabaya.csv')\n",
        "\n",
        "print(data.columns)\n",
        "\n",
        "data.columns = data.columns.str.strip()\n",
        "\n",
        "try:\n",
        "    max_luas = data['Luas Genangan'].max()\n",
        "    min_luas = data['Luas Genangan'].min()\n",
        "    mean_luas = data['Luas Genangan'].mean()\n",
        "\n",
        "    print(f'Maksimum Luas Genangan: {max_luas}')\n",
        "    print(f'Minimum Luas Genangan: {min_luas}')\n",
        "    print(f'Rata-rata Luas Genangan: {mean_luas}')\n",
        "except KeyError as e:\n",
        "    print(f'Kolom tidak ditemukan: {e}')\n",
        "\n",
        "try:\n",
        "    rayon_counts = data['Rayon'].value_counts()\n",
        "    plt.figure(figsize=(8, 6))\n",
        "    plt.pie(rayon_counts, labels=rayon_counts.index, autopct='%1.1f%%')\n",
        "    plt.title('Distribusi Peristiwa Genangan Berdasarkan Rayon')\n",
        "    plt.show()\n",
        "except KeyError as e:\n",
        "    print(f'Kolom tidak ditemukan: {e}')\n",
        "\n",
        "try:\n",
        "    sns.scatterplot(data=data, x='Luas Genangan', y='Skor Genangan')\n",
        "    plt.title('Hubungan antara Luas Genangan dan Skor Genangan')\n",
        "    plt.xlabel('Luas Genangan')\n",
        "    plt.ylabel('Skor Genangan')\n",
        "    plt.show()\n",
        "except ValueError as e:\n",
        "    print(f'Error saat membuat scatter plot: {e}')\n",
        "\n",
        "try:\n",
        "    sns.scatterplot(data=data, x='Luas Genangan', y='Lama Genangan')\n",
        "    plt.title('Hubungan antara Luas Genangan dan Lama Genangan Air')\n",
        "    plt.xlabel('Luas Genangan')\n",
        "    plt.ylabel('Lama Genangan')\n",
        "    plt.show()\n",
        "except ValueError as e:\n",
        "    print(f'Error saat membuat scatter plot: {e}')\n"
      ],
      "metadata": {
        "colab": {
          "base_uri": "https://localhost:8080/",
          "height": 662
        },
        "id": "30rIi2DCD9Du",
        "outputId": "95e2cb24-224d-45f0-a7f2-517b4b07d062"
      },
      "execution_count": 12,
      "outputs": [
        {
          "output_type": "stream",
          "name": "stdout",
          "text": [
            "Index(['_id', 'Lokasi', 'Kecamatan', 'Kelurahan', 'Rayon', 'Luas genangan',\n",
            "       'Tinggi genangan', 'Lama genangan', 'Skor Luas Genangan',\n",
            "       'Skor Tinggi Genangan', 'Skor Lama Genangan'],\n",
            "      dtype='object')\n",
            "Kolom tidak ditemukan: 'Luas Genangan'\n"
          ]
        },
        {
          "output_type": "display_data",
          "data": {
            "text/plain": [
              "<Figure size 800x600 with 1 Axes>"
            ],
            "image/png": "[encoded data removed]"
          },
          "metadata": {}
        },
        {
          "output_type": "stream",
          "name": "stdout",
          "text": [
            "Error saat membuat scatter plot: Could not interpret value `Luas Genangan` for `x`. An entry with this name does not appear in `data`.\n",
            "Error saat membuat scatter plot: Could not interpret value `Luas Genangan` for `x`. An entry with this name does not appear in `data`.\n"
          ]
        }
      ]
    },
    {
      "cell_type": "markdown",
      "source": [
        "Lakukan praproses pada data modified_data genangan air Surabaya.csv\n",
        "dengan membuat program python dan interpretasi dari output program yang\n",
        "anda buat, sehingga anda dapat menjawaba pertanyaan-pertanyaan berikut ini:\n",
        "Petunjuk : untuk membaca data tersebut anda dapat menggunakan perintah\n",
        "membaca data dengan opsi sep=’;’\n",
        "a. Apakah ada duplikasi data? Jika ya/tidak apa yang anda lakukan? (5)\n",
        "b. Apakah ada missing value atau noise atau nilai bias pada data tersebut? Jika\n",
        "ya/tidak apa yang anda lakukan? (5)\n",
        "c. Jika mengubah tipe data dari Kecamatan, Kelurahan dan Rayon menjadi\n",
        "angka, apa yang dapat dilakukan? (5)"
      ],
      "metadata": {
        "id": "5YHyMwIzI6he"
      }
    },
    {
      "cell_type": "code",
      "source": [
        "import pandas as pd\n",
        "\n",
        "data = pd.read_csv('/data genangan air Surabaya.csv', sep=';')\n",
        "\n",
        "print(\"Beberapa baris awal dari dataset:\")\n",
        "print(data.head())\n",
        "print(\"\\nNama kolom:\")\n",
        "print(data.columns)\n",
        "\n",
        "duplicates = data.duplicated().sum()\n",
        "print(f\"\\nJumlah duplikasi data: {duplicates}\")\n",
        "\n",
        "if duplicates > 0:\n",
        "    print(\"Tindakan: Menghapus duplikasi data.\")\n",
        "    data = data.drop_duplicates()\n",
        "else:\n",
        "    print(\"Tidak ada duplikasi data.\")\n",
        "\n",
        "missing_values = data.isnull().sum()\n",
        "print(\"\\nJumlah missing values di setiap kolom:\")\n",
        "print(missing_values)\n",
        "\n",
        "if missing_values.sum() > 0:\n",
        "    print(\"Tindakan: Mengisi missing values dengan nilai rata-rata untuk kolom numerik dan modus untuk kolom kategorikal.\")\n",
        "    for column in data.select_dtypes(include=['float64', 'int64']).columns:\n",
        "        data[column].fillna(data[column].mean(), inplace=True)\n",
        "\n",
        "    for column in data.select_dtypes(include=['object']).columns:\n",
        "        data[column].fillna(data[column].mode()[0], inplace=True)\n",
        "else:\n",
        "    print(\"Tidak ada missing values.\")\n",
        "\n",
        "from sklearn.preprocessing import LabelEncoder\n",
        "\n",
        "le = LabelEncoder()\n",
        "for column in ['Kecamatan', 'Kelurahan', 'Rayon']:\n",
        "    if column in data.columns:\n",
        "        data[column] = le.fit_transform(data[column])\n",
        "        print(f\"\\nKolom '{column}' telah diubah menjadi angka.\")\n",
        "    else:\n",
        "        print(f\"\\nKolom '{column}' tidak ditemukan dalam dataset.\")\n",
        "\n",
        "print(\"\\nDataset setelah praproses:\")\n",
        "print(data.head())\n"
      ],
      "metadata": {
        "colab": {
          "base_uri": "https://localhost:8080/"
        },
        "id": "95JkoyUtI8Vf",
        "outputId": "47a02460-f66c-41de-c9cc-8b4ded5f4507"
      },
      "execution_count": 10,
      "outputs": [
        {
          "output_type": "stream",
          "name": "stdout",
          "text": [
            "Beberapa baris awal dari dataset:\n",
            "  _id,Lokasi,Kecamatan,Kelurahan,Rayon,Luas genangan,Tinggi genangan,Lama genangan,Skor Luas Genangan,Skor Tinggi Genangan,Skor Lama Genangan\n",
            "0  1,Jl. Pakis Agosari (Yamaha),Dukuh Pakis,Dukuh...                                                                                         \n",
            "1  2,Jl. Mayjend Sungkono - Darmo Park I,Dukuh Pa...                                                                                         \n",
            "2  3,Jl. Mayjend Sungkono (Pom Bensin),Dukuh Paki...                                                                                         \n",
            "3  4,Kp. Kebraon,Karangpilang,Warugunung,Rayon Wi...                                                                                         \n",
            "4  5,Jl. Lakar Santri RW.001,Lakarsantri,Bangking...                                                                                         \n",
            "\n",
            "Nama kolom:\n",
            "Index(['_id,Lokasi,Kecamatan,Kelurahan,Rayon,Luas genangan,Tinggi genangan,Lama genangan,Skor Luas Genangan,Skor Tinggi Genangan,Skor Lama Genangan'], dtype='object')\n",
            "\n",
            "Jumlah duplikasi data: 0\n",
            "Tidak ada duplikasi data.\n",
            "\n",
            "Jumlah missing values di setiap kolom:\n",
            "_id,Lokasi,Kecamatan,Kelurahan,Rayon,Luas genangan,Tinggi genangan,Lama genangan,Skor Luas Genangan,Skor Tinggi Genangan,Skor Lama Genangan    0\n",
            "dtype: int64\n",
            "Tidak ada missing values.\n",
            "\n",
            "Kolom 'Kecamatan' tidak ditemukan dalam dataset.\n",
            "\n",
            "Kolom 'Kelurahan' tidak ditemukan dalam dataset.\n",
            "\n",
            "Kolom 'Rayon' tidak ditemukan dalam dataset.\n",
            "\n",
            "Dataset setelah praproses:\n",
            "  _id,Lokasi,Kecamatan,Kelurahan,Rayon,Luas genangan,Tinggi genangan,Lama genangan,Skor Luas Genangan,Skor Tinggi Genangan,Skor Lama Genangan\n",
            "0  1,Jl. Pakis Agosari (Yamaha),Dukuh Pakis,Dukuh...                                                                                         \n",
            "1  2,Jl. Mayjend Sungkono - Darmo Park I,Dukuh Pa...                                                                                         \n",
            "2  3,Jl. Mayjend Sungkono (Pom Bensin),Dukuh Paki...                                                                                         \n",
            "3  4,Kp. Kebraon,Karangpilang,Warugunung,Rayon Wi...                                                                                         \n",
            "4  5,Jl. Lakar Santri RW.001,Lakarsantri,Bangking...                                                                                         \n"
          ]
        }
      ]
    }
  ]
}